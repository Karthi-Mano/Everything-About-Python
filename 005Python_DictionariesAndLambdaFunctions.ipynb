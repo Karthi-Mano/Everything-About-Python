{
 "cells": [
  {
   "cell_type": "markdown",
   "metadata": {
    "deletable": true,
    "editable": true
   },
   "source": [
    "# Python Dictionaries and Lambda Functions"
   ]
  },
  {
   "cell_type": "markdown",
   "metadata": {
    "deletable": true,
    "editable": true
   },
   "source": [
    "We have studied about compound data types like -lists,tuples and sets .Dictionaries are also yet another kind of compound data type.\n",
    "They are of Mapping type,they map KEYS which are immutable to the VALUES which can be of any type.\n",
    "These Dictionaries are also known as associative arrays since they associate a key with a value.\n",
    "\n",
    "\n",
    "Dictionaries are also a type of lists ,but list is only the collection of values.\n",
    "\n",
    "\n"
   ]
  },
  {
   "cell_type": "code",
   "execution_count": null,
   "metadata": {
    "collapsed": false,
    "deletable": true,
    "editable": true
   },
   "outputs": [],
   "source": [
    "fruits_dict = {}                 #this is an empty dictionary\n",
    "\n",
    "     \n",
    "\n",
    "fruits_dict['apple']  =  2.50    #creating a key apple with a value red ,similarly create  key-value pairs for other fruits\n",
    "fruits_dict['orange'] = 1.75\n",
    "fruits_dict['pears']  = 1.00\n",
    "\n",
    "\n",
    "print(fruits_dict)              #The order of items is unpredictable"
   ]
  },
  {
   "cell_type": "code",
   "execution_count": null,
   "metadata": {
    "collapsed": false
   },
   "outputs": [],
   "source": [
    "#Creating dic with keys and values\n",
    "\n",
    "person={\n",
    "    'John':25,\n",
    "    'Peter':35,\n",
    "    'Cynthia':32\n",
    "}\n",
    "person"
   ]
  },
  {
   "cell_type": "code",
   "execution_count": null,
   "metadata": {
    "collapsed": false,
    "deletable": true,
    "editable": true
   },
   "outputs": [],
   "source": [
    "len(fruits_dict)      #len function gives how many key-value pairs are \n"
   ]
  },
  {
   "cell_type": "markdown",
   "metadata": {
    "collapsed": true,
    "deletable": true,
    "editable": true
   },
   "source": [
    " 'in' operator works in dictionaries, it tells you whether something appears as a key in the dictionary\n",
    "\n",
    "'apple' in fruits_dict\n"
   ]
  },
  {
   "cell_type": "code",
   "execution_count": null,
   "metadata": {
    "collapsed": false,
    "deletable": true,
    "editable": true
   },
   "outputs": [],
   "source": [
    "#Tocheck whether a value appears in dictionary or not we can use a method called values\n",
    "\n",
    "\n",
    "2.50 in fruits_dict.values()\n",
    "\n",
    "#Access the values\n",
    "fruits_dict['apple']"
   ]
  },
  {
   "cell_type": "code",
   "execution_count": null,
   "metadata": {
    "collapsed": false
   },
   "outputs": [],
   "source": [
    "#We can return all keys and values seperately \n",
    "fruits_dict.keys()\n",
    "fruits_dict.values()\n",
    "fruits_dict.items()"
   ]
  },
  {
   "cell_type": "code",
   "execution_count": null,
   "metadata": {
    "collapsed": false,
    "deletable": true,
    "editable": true
   },
   "outputs": [],
   "source": [
    "#in dictionaries we can use get method that takes a key and default value,\n",
    "#if the key exists in the dictionary it gives the corresponding value or else returns the default value\n",
    "\n",
    "\n",
    "fruits_dict.get('apple',0)\n",
    "        "
   ]
  },
  {
   "cell_type": "markdown",
   "metadata": {},
   "source": [
    "### Nested Data Structures\n",
    "Suppose we have list of students with their name,age,class suppose we want access all the data with single data item we can use dictionary."
   ]
  },
  {
   "cell_type": "code",
   "execution_count": null,
   "metadata": {
    "collapsed": false
   },
   "outputs": [],
   "source": [
    "students_name=['john','Ram','Robert','Peter']\n",
    "student_age=[25,26,27,22]\n",
    "student_dept=['cs','arts','math','chemistry']\n",
    "\n",
    "data={\n",
    "    'name':students_name,\n",
    "    'age':student_age,\n",
    "    'dept':student_dept\n",
    "}\n",
    "\n",
    "data\n"
   ]
  },
  {
   "cell_type": "markdown",
   "metadata": {
    "deletable": true,
    "editable": true
   },
   "source": [
    "#### Lookup and Reverse LookUp"
   ]
  },
  {
   "cell_type": "markdown",
   "metadata": {
    "deletable": true,
    "editable": true
   },
   "source": [
    "Given a Dictionary d and key k , it is easy to find the corresponding value d[k],this is called LookUp\n",
    "But what if we have a value and need to find a key,this is called reverse LookUp.\n",
    "Reverse Lookup is some sort of tricky because a value may be corresponded to many keys, in this case we need to do search operation by defining a function\n"
   ]
  },
  {
   "cell_type": "code",
   "execution_count": null,
   "metadata": {
    "collapsed": false,
    "deletable": true,
    "editable": true
   },
   "outputs": [],
   "source": [
    "def reverse_lookup(d,v):\n",
    "    for k in d:\n",
    "        if d[k] == v:\n",
    "            \n",
    "            return k\n",
    "    raise ValueError('Value Does not appear')\n",
    "\n",
    "key=reverse_lookup(fruits_dict,2.5)\n",
    "\n",
    "print(key)"
   ]
  },
  {
   "cell_type": "markdown",
   "metadata": {},
   "source": [
    "### Lambda Functions\n",
    "Python supports the creation of anonymous functions  at runtime, using a construct called \"lambda\".  \n",
    "It is often used in conjunction with typical functional concepts like filter(), map() and reduce()."
   ]
  },
  {
   "cell_type": "code",
   "execution_count": null,
   "metadata": {
    "collapsed": false
   },
   "outputs": [],
   "source": [
    "def f(x):\n",
    "    return x*2\n",
    "#g=lambda x:x*2\n",
    "#print(g(2))\n",
    "  "
   ]
  },
  {
   "cell_type": "code",
   "execution_count": null,
   "metadata": {
    "collapsed": false
   },
   "outputs": [],
   "source": [
    "def make_incrementor (n): \n",
    "    return lambda x: x + n\n",
    "\n",
    "f = make_incrementor(2)\n",
    "\n",
    "print(f(42))"
   ]
  },
  {
   "cell_type": "markdown",
   "metadata": {},
   "source": [
    "#### Filter\n",
    "The filter() function in Python takes in a function and a list as arguments.  \n",
    "The function is called with all the items in the list and a new list is returned which contains items for which the function evaluats to True.\n",
    "\n",
    "#### Map\n",
    "The map() function in Python takes in a function and a list.  \n",
    "The function is called with all the items in the list and a new list is returned which contains items returned by that function for each item."
   ]
  },
  {
   "cell_type": "code",
   "execution_count": null,
   "metadata": {
    "collapsed": false
   },
   "outputs": [],
   "source": [
    "list1=[1,2,3,4,5,6,7,8,9]\n",
    "g=list(filter(lambda x: x%2==0,list1))\n",
    "\n",
    "h=list(map(lambda x:x+2,list1))\n",
    "\n"
   ]
  }
 ],
 "metadata": {
  "kernelspec": {
   "display_name": "Python 3",
   "language": "python",
   "name": "python3"
  },
  "language_info": {
   "codemirror_mode": {
    "name": "ipython",
    "version": 3
   },
   "file_extension": ".py",
   "mimetype": "text/x-python",
   "name": "python",
   "nbconvert_exporter": "python",
   "pygments_lexer": "ipython3",
   "version": "3.6.0"
  }
 },
 "nbformat": 4,
 "nbformat_minor": 2
}
