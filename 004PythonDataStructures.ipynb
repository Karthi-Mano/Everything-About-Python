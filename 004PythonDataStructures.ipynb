{
 "cells": [
  {
   "cell_type": "markdown",
   "metadata": {
    "deletable": true,
    "editable": true
   },
   "source": [
    "  #                                   "   
   ]
  },
  {
   "cell_type": "markdown",
   "metadata": {
    "deletable": true,
    "editable": true
   },
   "source": [
    "### A.Data Structures\n",
    "    1.Lists\n",
    "    2.Tuples\n",
    "    3.Sets\n",
    "    \n",
    "### B.Lambda Functions and Dictionaries\n"
   ]
  },
  {
   "cell_type": "markdown",
   "metadata": {
    "deletable": true,
    "editable": true
   },
   "source": [
    "#### A.Data Structures\n",
    "In our  discussion we  consider four simple but very powerful concepts: Lists,Tuples,Sets and Dictionaries.\n",
    "\n"
   ]
  },
  {
   "cell_type": "markdown",
   "metadata": {
    "collapsed": true,
    "deletable": true,
    "editable": true
   },
   "source": [
    "List  are written within square brackets [ ]. Lists work similarly to strings  \n",
    "    -- use square brackets [ ] to access data, with the first element at index 0.  \n",
    "    \n",
    "  Tuples and lists serve different purposes. Lists store homogenous data.  \n",
    "  Unlike strings that contain only characters, list and tuples can contain any type of objects. Lists and tuples are like arrays. Tuples like strings are immutables. Lists are mutables so they can be extended or reduced at will.  \n",
    "  A Set is a  collection of unique and unordered items.Sets are mutable.\n",
    "  \n",
    "For examples we need to calculate average of marks secured by student,we divide the total with number of courses\n",
    "but in an instance where there are huge number of the students or courses ,\n",
    "calculation becomes difficult so we make use of these lists,sets and tuples\n",
    " "
   ]
  },
  {
   "cell_type": "code",
   "execution_count": null,
   "metadata": {
    "collapsed": false
   },
   "outputs": [],
   "source": [
    "#List can be declared using square brackets\n",
    "l=[]\n",
    "\n",
    "#List can store any type of data\n",
    "a=[1,'john',True,24.5]\n",
    "\n",
    "#We can also create a list to store another lists\n",
    "b=[a,l]\n",
    "#len function will return the length of the string\n",
    "\n",
    "#Indexing starts from 0 in lists and the last index is -1\n"
   ]
  },
  {
   "cell_type": "markdown",
   "metadata": {},
   "source": [
    "#### Slicing\n",
    "Slicing is a way of cutting a specific number of items from a data structure. Again, the principles you learn here will apply to all other data structures in Python. Slicing is important when it comes to working with raw data as it allows you to extract specific items of data and model this into structured variables"
   ]
  },
  {
   "cell_type": "code",
   "execution_count": null,
   "metadata": {
    "collapsed": false
   },
   "outputs": [],
   "source": [
    "a[:3] #Return items upto 3\n",
    "a[3:] #Returns items after 3\n",
    "a[1:3]  #Retruns items after 1 and upto 3\n",
    "new_list=a[0:3:2]\n"
   ]
  },
  {
   "cell_type": "markdown",
   "metadata": {
    "deletable": true,
    "editable": true
   },
   "source": [
    "#### Some list properties   \n",
    "    append\n",
    "    insert\n",
    "    remove\n",
    "    pop\n",
    "    clear\n",
    "    count\n",
    "    reverse\n",
    "    copy\n",
    "    index"
   ]
  },
  {
   "cell_type": "code",
   "execution_count": null,
   "metadata": {
    "collapsed": false,
    "deletable": true,
    "editable": true
   },
   "outputs": [],
   "source": [
    "my_list.append(13)\n",
    "#my_list.insert(3,4)\n",
    "my_list.remove(4)\n",
    "my_list"
   ]
  },
  {
   "cell_type": "markdown",
   "metadata": {
    "deletable": true,
    "editable": true
   },
   "source": [
    "#### List Comprehensions\n",
    "List comprehensions provide a concise way to create lists. Common applications are to create subsequence of elements."
   ]
  },
  {
   "cell_type": "code",
   "execution_count": null,
   "metadata": {
    "collapsed": false,
    "deletable": true,
    "editable": true
   },
   "outputs": [],
   "source": [
    "number=[]\n",
    "\n",
    "number=[x for x in range(1,10)]\n",
    "number\n",
    "\n",
    "\n",
    "#[(x, y) for x in [1,2,3] for y in [3,1,4] ]\n",
    "#[x*2 for x in number ]"
   ]
  },
  {
   "cell_type": "markdown",
   "metadata": {
    "collapsed": false,
    "deletable": true,
    "editable": true
   },
   "source": [
    "### Tuples\n",
    "A tuple is similar to a list except that it is enclosed within curved brackets.  \n",
    "There is one other important difference... Tuples are immutable. This means that they cannot be changed! This makes them useful in situtations where you can be certain that data will not change (e.g. date of birth). "
   ]
  },
  {
   "cell_type": "code",
   "execution_count": null,
   "metadata": {
    "collapsed": false,
    "deletable": true,
    "editable": true
   },
   "outputs": [],
   "source": [
    "my_tuple=()   #blank tuple\n",
    "num=(1,2,3)   # tuple with integers"
   ]
  },
  {
   "cell_type": "code",
   "execution_count": null,
   "metadata": {
    "collapsed": true,
    "deletable": true,
    "editable": true
   },
   "outputs": [],
   "source": [
    "#You can see only two methods available for tuple, as these are immutable we cannot use methods like append or remove."
   ]
  },
  {
   "cell_type": "markdown",
   "metadata": {},
   "source": [
    "### Sets\n",
    "A Set is an unordered collection of unique elements and they can be created using the set() function as follows:\n"
   ]
  },
  {
   "cell_type": "code",
   "execution_count": null,
   "metadata": {
    "collapsed": false
   },
   "outputs": [],
   "source": [
    "myset = set()    # Creating a blank set\n",
    "myset.add(1)     # Adding a value to our set\n",
    "print(type(myset),myset)\n",
    "#myset. : with this you can see available methods\n",
    "myset"
   ]
  },
  {
   "cell_type": "markdown",
   "metadata": {},
   "source": [
    "### Converting in between Data structures"
   ]
  },
  {
   "cell_type": "markdown",
   "metadata": {},
   "source": [
    "#### Converting Lists"
   ]
  },
  {
   "cell_type": "code",
   "execution_count": null,
   "metadata": {
    "collapsed": false
   },
   "outputs": [],
   "source": [
    "emp = ['John','Paul','George','Ringo']\n",
    "emp_tuple=tuple(emp)\n",
    "emp_tuple"
   ]
  },
  {
   "cell_type": "code",
   "execution_count": null,
   "metadata": {
    "collapsed": false
   },
   "outputs": [],
   "source": [
    "emp_set = set(emp)\n",
    "emp_set"
   ]
  },
  {
   "cell_type": "markdown",
   "metadata": {},
   "source": [
    "We have special function called zip which helps us creating a dict with lists or tuples. lets explore"
   ]
  },
  {
   "cell_type": "code",
   "execution_count": null,
   "metadata": {
    "collapsed": false
   },
   "outputs": [],
   "source": [
    "id = [1,2,3,4]\n",
    "empDict=dict(zip(emp,id))\n",
    "empDict"
   ]
  },
  {
   "cell_type": "markdown",
   "metadata": {},
   "source": [
    "#### Converting tuples"
   ]
  },
  {
   "cell_type": "code",
   "execution_count": null,
   "metadata": {
    "collapsed": false
   },
   "outputs": [],
   "source": [
    "sample = ('Leonardo','Raphael','Donatello','Michaelangelo')\n",
    "sample_list=list(sample)\n",
    "sample_list"
   ]
  },
  {
   "cell_type": "code",
   "execution_count": null,
   "metadata": {
    "collapsed": false
   },
   "outputs": [],
   "source": [
    "id=(1,2,3,4)\n",
    "sampleDict=dict(zip(sample,id))\n",
    "sampleDict"
   ]
  }
 ],
 "metadata": {
  "kernelspec": {
   "display_name": "Python 3",
   "language": "python",
   "name": "python3"
  },
  "language_info": {
   "codemirror_mode": {
    "name": "ipython",
    "version": 3
   },
   "file_extension": ".py",
   "mimetype": "text/x-python",
   "name": "python",
   "nbconvert_exporter": "python",
   "pygments_lexer": "ipython3",
   "version": "3.6.0"
  }
 },
 "nbformat": 4,
 "nbformat_minor": 2
}
