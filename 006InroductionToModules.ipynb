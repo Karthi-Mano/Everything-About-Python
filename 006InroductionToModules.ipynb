{
 "cells": [
  {
   "cell_type": "markdown",
   "metadata": {},
   "source": [
    "## Python Modules"
   ]
  },
  {
   "cell_type": "markdown",
   "metadata": {
    "deletable": true,
    "editable": true
   },
   "source": [
    "Whenever we come out of Python Interpreter ,the variables and functions we have created are lost .So when writing some longer programs ,it is better to prepare the input (text file for example) for the interpreter and run that file as input.This is Known as Scripting.\n",
    "To support this Python has a way to put the definitions in a file and use them as Scripts,such file is known as Module.\n",
    "Definitons can be imported to other modules also.\n",
    "\n",
    "__Definition of Module__:-A module  is a file containing Python definitions and statements.The module's name which is a string is available as the value of global variable('__name__')\n"
   ]
  },
  {
   "cell_type": "markdown",
   "metadata": {
    "deletable": true,
    "editable": true
   },
   "source": [
    "__Example Excerise__\n",
    "Now jump to your Python IDE, and create a file called num.py, which has a function sum(a,b) defined to get the sum of the arguments a,b.\n",
    "Then create a new python file called num1.py, in this file import num and call the function sum as' num.sum()'\n",
    "This is how a module is imported."
   ]
  },
  {
   "cell_type": "markdown",
   "metadata": {
    "deletable": true,
    "editable": true
   },
   "source": [
    "From modules we can import certain definitions and variables as requirement.Suppose we have functions named Sum() and Mul() in num.py, and we only need only the sum() function ,we can import as below\n",
    "\n",
    "    from sum import sum\n",
    "    "
   ]
  },
  {
   "cell_type": "markdown",
   "metadata": {
    "deletable": true,
    "editable": true
   },
   "source": [
    "Defining : __name__ ==\"__main__\"\n",
    " \n",
    " \n",
    "Sometimes you write a module (a .py file) where it can be executed directly.\n",
    "Alternatively, it can also be imported and used in another module. \n",
    "In such cases we write the executable outputs of the module under  if __name__ ==\"__main__\"\n"
   ]
  },
  {
   "cell_type": "markdown",
   "metadata": {
    "deletable": true,
    "editable": true
   },
   "source": [
    "Module Seach Path:\n",
    "    If you have written to import a module ,the interpreter first search for built in modules and then search for any file  named  with given module name."
   ]
  },
  {
   "cell_type": "markdown",
   "metadata": {
    "deletable": true,
    "editable": true
   },
   "source": [
    "__Standard Modules__:\n",
    "Python comes with a Library of Standard Modules ,\n",
    "sys is a built into every python interpreter.Lets have a look on sys module"
   ]
  },
  {
   "cell_type": "code",
   "execution_count": 5,
   "metadata": {
    "collapsed": false,
    "deletable": true,
    "editable": true
   },
   "outputs": [
    {
     "name": "stdout",
     "output_type": "stream",
     "text": [
      "['', 'C:\\\\Users\\\\deepu\\\\Anaconda3\\\\python36.zip', 'C:\\\\Users\\\\deepu\\\\Anaconda3\\\\DLLs', 'C:\\\\Users\\\\deepu\\\\Anaconda3\\\\lib', 'C:\\\\Users\\\\deepu\\\\Anaconda3', 'C:\\\\Users\\\\deepu\\\\Anaconda3\\\\lib\\\\site-packages', 'C:\\\\Users\\\\deepu\\\\Anaconda3\\\\lib\\\\site-packages\\\\Sphinx-1.5.1-py3.6.egg', 'C:\\\\Users\\\\deepu\\\\Anaconda3\\\\lib\\\\site-packages\\\\win32', 'C:\\\\Users\\\\deepu\\\\Anaconda3\\\\lib\\\\site-packages\\\\win32\\\\lib', 'C:\\\\Users\\\\deepu\\\\Anaconda3\\\\lib\\\\site-packages\\\\Pythonwin', 'C:\\\\Users\\\\deepu\\\\Anaconda3\\\\lib\\\\site-packages\\\\setuptools-27.2.0-py3.6.egg', 'C:\\\\Users\\\\deepu\\\\Anaconda3\\\\lib\\\\site-packages\\\\IPython\\\\extensions', 'C:\\\\Users\\\\deepu\\\\.ipython']\n"
     ]
    },
    {
     "data": {
      "text/plain": [
       "['C:\\\\Users\\\\deepu\\\\Anaconda3\\\\lib\\\\site-packages\\\\ipykernel\\\\__main__.py',\n",
       " '-f',\n",
       " 'C:\\\\Users\\\\deepu\\\\AppData\\\\Roaming\\\\jupyter\\\\runtime\\\\kernel-99c9e257-4d84-4e49-bfba-381b0c37ff1c.json']"
      ]
     },
     "execution_count": 5,
     "metadata": {},
     "output_type": "execute_result"
    }
   ],
   "source": [
    "import sys\n",
    "print(sys.path)\n",
    "\n",
    "#prints the path where the interpreter search for modules,it is the default path taken from environment variables\n",
    "\n",
    "#dir()   \n",
    "\n",
    "#The built-in function dir() is used to find out which names a module defines. It returns a sorted list of strings:"
   ]
  },
  {
   "cell_type": "markdown",
   "metadata": {
    "deletable": true,
    "editable": true
   },
   "source": [
    "# Packages"
   ]
  },
  {
   "cell_type": "markdown",
   "metadata": {
    "deletable": true,
    "editable": true
   },
   "source": [
    "Package is nothing but a collection of modules.Packages are a way of structuring Python’s module namespace by using “dotted module names”. For example, the module name A.B designates a submodule named B in a package named A.\n",
    "We make use of files named __init__.py to make Python treat the directories as containing packages.\n",
    "\n",
    "importing * from package\n",
    "\n",
    "Sometimes we do these to import all the stuff from the package,this may have some side effects ,so the author of a particular package can specify what are the modules that can be imported using \n",
    "__all__=[]  #in this list we can specify the modules as strings"
   ]
  },
  {
   "cell_type": "code",
   "execution_count": 6,
   "metadata": {
    "collapsed": true
   },
   "outputs": [],
   "source": [
    "import urllib"
   ]
  },
  {
   "cell_type": "code",
   "execution_count": 9,
   "metadata": {
    "collapsed": false
   },
   "outputs": [
    {
     "data": {
      "text/plain": [
       "['__builtins__',\n",
       " '__cached__',\n",
       " '__doc__',\n",
       " '__file__',\n",
       " '__loader__',\n",
       " '__name__',\n",
       " '__package__',\n",
       " '__path__',\n",
       " '__spec__',\n",
       " 'parse']"
      ]
     },
     "execution_count": 9,
     "metadata": {},
     "output_type": "execute_result"
    }
   ],
   "source": [
    "dir(urllib)"
   ]
  },
  {
   "cell_type": "markdown",
   "metadata": {},
   "source": [
    "##### Have a look of python standard libraries   https://docs.python.org/3/library/\n"
   ]
  },
  {
   "cell_type": "markdown",
   "metadata": {},
   "source": [
    "Consider a py file (name.py) which is available in person directory .This file has following line of code\n",
    "\n"
   ]
  },
  {
   "cell_type": "code",
   "execution_count": 11,
   "metadata": {
    "collapsed": true
   },
   "outputs": [],
   "source": [
    "def name():\n",
    "    print('This is my name')"
   ]
  },
  {
   "cell_type": "markdown",
   "metadata": {},
   "source": [
    "Similarly we have another two py files in the package age.py and gender.py  \n",
    "And each file has their own functions as name.py file has.  Now if we import this person directory into our workin project , we need all the 3 files to be included.  To do this we will create a new py file called __init__.py  Inside this init file we will write the files names that can be imported  \n",
    "  \n",
    "     from name import name  \n",
    "     from age import age  \n",
    "     from gender import gender"
   ]
  },
  {
   "cell_type": "markdown",
   "metadata": {},
   "source": [
    "Now when you import this Person directory all the these classes or files are avialable in our project."
   ]
  },
  {
   "cell_type": "markdown",
   "metadata": {},
   "source": [
    "### Finding and Installing Packages\n",
    "If you are looking for specific pakages ,try finding them in google.Once you have found the required package there are two ways to installing those\n",
    "            \n",
    "         1.pip install  \n",
    "  pip is installed along with out python installation.So if we need to install specific package for example say numpy in the commmand prompt type pip install numpy\n",
    "                \n",
    "         2.python setup.py\n",
    "   Some packages fail to install through pip.Then go to the package directory and look for the file setup.py and run the file.\n",
    "            "
   ]
  },
  {
   "cell_type": "markdown",
   "metadata": {},
   "source": [
    "You can see the installed packages in python/sitepackages folder"
   ]
  },
  {
   "cell_type": "markdown",
   "metadata": {},
   "source": [
    "### Virtualenv\n",
    "\n",
    "virtualenv is a tool to create isolated Python environments. virtualenv creates a folder which contains all the necessary executables to use the packages that a Python project would need.  \n",
    "Follow the link http://python-guide-pt-br.readthedocs.io/en/latest/dev/virtualenvs/ to see more about virtual env"
   ]
  }
 ],
 "metadata": {
  "kernelspec": {
   "display_name": "Python 3",
   "language": "python",
   "name": "python3"
  },
  "language_info": {
   "codemirror_mode": {
    "name": "ipython",
    "version": 3
   },
   "file_extension": ".py",
   "mimetype": "text/x-python",
   "name": "python",
   "nbconvert_exporter": "python",
   "pygments_lexer": "ipython3",
   "version": "3.6.0"
  }
 },
 "nbformat": 4,
 "nbformat_minor": 2
}
