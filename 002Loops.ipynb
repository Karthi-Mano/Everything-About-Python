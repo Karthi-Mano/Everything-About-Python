{
 "cells": [
  {
   "cell_type": "markdown",
   "metadata": {},
   "source": [
    "Ifyou want to repeat a code n number of times we use for loop,\n",
    "however, while is used when a condition is to be met, or if you want a piece of code to repeat forever"
   ]
  },
  {
   "cell_type": "code",
   "execution_count": 1,
   "metadata": {
    "collapsed": false,
    "scrolled": true
   },
   "outputs": [
    {
     "name": "stdout",
     "output_type": "stream",
     "text": [
      "h\n",
      "e\n",
      "l\n",
      "l\n",
      "o\n"
     ]
    }
   ],
   "source": [
    "#for loop\n",
    "\n",
    "my_string=\"hello\"\n",
    "for anychar in my_string :   #string,lists,tuples,sets are itterable\n",
    "    print(anychar)"
   ]
  },
  {
   "cell_type": "code",
   "execution_count": 8,
   "metadata": {
    "collapsed": false
   },
   "outputs": [
    {
     "name": "stdout",
     "output_type": "stream",
     "text": [
      "1\n",
      "9\n",
      "4\n",
      "9\n",
      "1\n"
     ]
    }
   ],
   "source": [
    "num=[1,3,2,3,1]\n",
    "for anynum in num:\n",
    "    print (anynum**2)"
   ]
  },
  {
   "cell_type": "code",
   "execution_count": 11,
   "metadata": {
    "collapsed": false
   },
   "outputs": [
    {
     "name": "stdout",
     "output_type": "stream",
     "text": [
      "It is 12\n",
      "Should we continue printing (y/n):y\n",
      "It is 12\n",
      "Should we continue printing (y/n):y\n",
      "It is 12\n",
      "Should we continue printing (y/n):y\n",
      "It is 12\n",
      "Should we continue printing (y/n):n\n"
     ]
    }
   ],
   "source": [
    "#while loop\n",
    "\n",
    "user_choice=12\n",
    "while user_choice==12:\n",
    "    print(\"It is 12\")\n",
    "    \n",
    "    user_input=input(\"Should we continue printing (y/n):\")\n",
    "    \n",
    "    if user_input=='n':\n",
    "        user_choice=10"
   ]
  },
  {
   "cell_type": "markdown",
   "metadata": {
    "collapsed": true
   },
   "source": [
    "When you have a piece of code you want to run x number of times, then code within that code which you want to run y number of times, you use what is known as a \"nested loop\". In Python, these are heavily used whenever someone has a list of lists - an iterable object within an iterable object."
   ]
  }
 ],
 "metadata": {
  "kernelspec": {
   "display_name": "Python 3",
   "language": "python",
   "name": "python3"
  },
  "language_info": {
   "codemirror_mode": {
    "name": "ipython",
    "version": 3
   },
   "file_extension": ".py",
   "mimetype": "text/x-python",
   "name": "python",
   "nbconvert_exporter": "python",
   "pygments_lexer": "ipython3",
   "version": "3.6.0"
  }
 },
 "nbformat": 4,
 "nbformat_minor": 2
}
