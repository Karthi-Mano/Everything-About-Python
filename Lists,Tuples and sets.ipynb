{
 "cells": [
  {
   "cell_type": "markdown",
   "metadata": {
    "collapsed": true
   },
   "source": [
    "#For examples we need to calculate average of marks secured by student,we divide the total with number of courses\n",
    "#but in an instance where there are huge number of the students or courses ,\n",
    "#calculation becomes difficult so we make use of these lists,sets and tuples\n",
    " List  are written within square brackets [ ]. Lists work similarly to strings\n",
    "    -- use the len() function and square brackets [ ] to access data, with the first element at index 0. \n",
    "    \n",
    "  Tuples and lists serve different purposes. Lists store homogenous data.\n",
    "      A list is a list of the same kind of items: files, names, objects. Tuples are a grouping of different types of objects. \n",
    "  set is a  collection of unique and unorederd items\n",
    "  "
   ]
  },
  {
   "cell_type": "code",
   "execution_count": 3,
   "metadata": {
    "collapsed": false
   },
   "outputs": [
    {
     "name": "stdout",
     "output_type": "stream",
     "text": [
      "47.666666666666664\n"
     ]
    }
   ],
   "source": [
    "#list\n",
    "\n",
    "\n",
    "grades=[77,52,25,65,47,20]\n",
    "print(sum(grades)/len(grades))   #sum function gives the total where len gives the length of the array or lsit"
   ]
  },
  {
   "cell_type": "code",
   "execution_count": 11,
   "metadata": {
    "collapsed": true
   },
   "outputs": [],
   "source": [
    "#tuples\n",
    "#the only difference between list and tuples is tuples are immutable i.e. size of the tuple cannot be increased\n",
    "grades_list=[77,25,65,47,20]\n",
    "grades_tuples=(77,20,26,13,32)\n",
    "\n",
    "#we can add an element for grades_list but not for grade_tuples\n",
    "grades_list.append(100) #allowed for list but not for tuples"
   ]
  },
  {
   "cell_type": "code",
   "execution_count": 6,
   "metadata": {
    "collapsed": false
   },
   "outputs": [
    {
     "name": "stdout",
     "output_type": "stream",
     "text": [
      "{1, 4, 10, 11, 12, 13}\n"
     ]
    }
   ],
   "source": [
    "#set\n",
    "#set is a  collection of unique and unorederd items\n",
    "\n",
    "set_grades={10,11,12,13,1,4,4}\n",
    "\n",
    "print(set_grades) #see it is unorederd and unique 4 is not repeated twice"
   ]
  },
  {
   "cell_type": "code",
   "execution_count": 10,
   "metadata": {
    "collapsed": false
   },
   "outputs": [
    {
     "name": "stdout",
     "output_type": "stream",
     "text": [
      "[250, 200, 300, 400]\n",
      "(10, 20, 30, 40)\n",
      "{35, 20, 15}\n"
     ]
    }
   ],
   "source": [
    "#how to append new values to tuples,list and sets\n",
    "\n",
    "\n",
    "grades_list=[100,200,300]\n",
    "grades_tuples=(10,20,30)\n",
    "grades_sets={20,35,20}\n",
    "\n",
    "\n",
    "\n",
    "grades_list.append(400)\n",
    "grades_list[0]=250  #way of changing list element\n",
    "grades_tuples=grades_tuples+(40,)    #notice the comma (,) after 40, it is must otherwise it will be treated as normal integer\n",
    "grades_sets.add(15)\n",
    "\n",
    "\n",
    "print(grades_list)\n",
    "print(grades_tuples)\n",
    "print(grades_sets)"
   ]
  },
  {
   "cell_type": "code",
   "execution_count": null,
   "metadata": {
    "collapsed": true
   },
   "outputs": [],
   "source": []
  }
 ],
 "metadata": {
  "kernelspec": {
   "display_name": "Python 3",
   "language": "python",
   "name": "python3"
  },
  "language_info": {
   "codemirror_mode": {
    "name": "ipython",
    "version": 3
   },
   "file_extension": ".py",
   "mimetype": "text/x-python",
   "name": "python",
   "nbconvert_exporter": "python",
   "pygments_lexer": "ipython3",
   "version": "3.6.0"
  }
 },
 "nbformat": 4,
 "nbformat_minor": 2
}
